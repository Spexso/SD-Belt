{
 "cells": [
  {
   "cell_type": "code",
   "execution_count": null,
   "metadata": {
    "colab": {
     "base_uri": "https://localhost:8080/"
    },
    "executionInfo": {
     "elapsed": 10301,
     "status": "ok",
     "timestamp": 1748432512644,
     "user": {
      "displayName": "cemil fatih yol",
      "userId": "02017625683036780828"
     },
     "user_tz": -180
    },
    "id": "-rR_MspHJKEt",
    "outputId": "ab058254-bf48-41a2-e804-062f2415a6ae"
   },
   "outputs": [],
   "source": [
    "from google.colab import drive\n",
    "drive.mount('/content/drive')"
   ]
  },
  {
   "cell_type": "code",
   "execution_count": null,
   "metadata": {
    "colab": {
     "base_uri": "https://localhost:8080/"
    },
    "executionInfo": {
     "elapsed": 65308,
     "status": "ok",
     "timestamp": 1748432577957,
     "user": {
      "displayName": "cemil fatih yol",
      "userId": "02017625683036780828"
     },
     "user_tz": -180
    },
    "id": "zHXJVu0QJOK2",
    "outputId": "a27e3c67-0871-4b8b-bc35-4c3f15a0df09"
   },
   "outputs": [],
   "source": [
    "!pip install -qU --upgrade pip\n",
    "!pip install -qU kaggle ultralytics"
   ]
  },
  {
   "cell_type": "code",
   "execution_count": null,
   "metadata": {
    "colab": {
     "base_uri": "https://localhost:8080/"
    },
    "executionInfo": {
     "elapsed": 906,
     "status": "ok",
     "timestamp": 1748432578873,
     "user": {
      "displayName": "cemil fatih yol",
      "userId": "02017625683036780828"
     },
     "user_tz": -180
    },
    "id": "1RHKA1e2JSeK",
    "outputId": "7ca7309a-0a54-4783-fcf6-0341dfc4a8a9"
   },
   "outputs": [],
   "source": [
    "!ls drive/MyDrive/cse396_datasets/no_banana_dataset.zip"
   ]
  },
  {
   "cell_type": "code",
   "execution_count": null,
   "metadata": {
    "colab": {
     "base_uri": "https://localhost:8080/"
    },
    "executionInfo": {
     "elapsed": 41300,
     "status": "ok",
     "timestamp": 1748432620194,
     "user": {
      "displayName": "cemil fatih yol",
      "userId": "02017625683036780828"
     },
     "user_tz": -180
    },
    "id": "4d5kIfMUJVas",
    "outputId": "11af1b60-52eb-4020-c879-7e0875026f8f"
   },
   "outputs": [],
   "source": [
    "# 2️⃣ Unzip the dataset archive into Colab local storage\n",
    "dataset_zip = '/content/drive/MyDrive/cse396_datasets/no_banana_dataset.zip'\n",
    "!unzip -q \"$dataset_zip\" -d /content/no_banana_dataset\n",
    "!ls /content/no_banana_dataset\n"
   ]
  },
  {
   "cell_type": "code",
   "execution_count": null,
   "metadata": {
    "colab": {
     "base_uri": "https://localhost:8080/"
    },
    "executionInfo": {
     "elapsed": 34,
     "status": "ok",
     "timestamp": 1748432620231,
     "user": {
      "displayName": "cemil fatih yol",
      "userId": "02017625683036780828"
     },
     "user_tz": -180
    },
    "id": "oNn-rSWQJlNe",
    "outputId": "f819382a-5903-431e-f5d7-3a7877477e56"
   },
   "outputs": [],
   "source": [
    "# 3️⃣ Count images & labels per split (corrected paths)\n",
    "import os\n",
    "\n",
    "base = '/content/no_banana_dataset/no_banana_dataset'\n",
    "splits = ['train', 'valid', 'test']\n",
    "\n",
    "for s in splits:\n",
    "    img_dir = os.path.join(base, s, 'images')\n",
    "    lbl_dir = os.path.join(base, s, 'labels')\n",
    "    n_img = len([f for f in os.listdir(img_dir) if f.lower().endswith(('.jpg', '.png', '.jpeg'))])\n",
    "    n_lbl = len([f for f in os.listdir(lbl_dir) if f.endswith('.txt')])\n",
    "    print(f\"{s:5s}: {n_img:5d} images, {n_lbl:5d} labels\")\n"
   ]
  },
  {
   "cell_type": "code",
   "execution_count": null,
   "metadata": {
    "colab": {
     "base_uri": "https://localhost:8080/",
     "height": 499
    },
    "executionInfo": {
     "elapsed": 1825,
     "status": "ok",
     "timestamp": 1748432622058,
     "user": {
      "displayName": "cemil fatih yol",
      "userId": "02017625683036780828"
     },
     "user_tz": -180
    },
    "id": "F1moWcctJxPQ",
    "outputId": "3eeecde8-bd3c-433a-ccf4-53f8e3fdde7e"
   },
   "outputs": [],
   "source": [
    "# 4️⃣ Display a sample image + YOLO-format box (using corrected paths)\n",
    "import cv2\n",
    "import matplotlib.pyplot as plt\n",
    "import os\n",
    "\n",
    "base = '/content/no_banana_dataset/no_banana_dataset'\n",
    "\n",
    "def show_sample(split='train', idx=0):\n",
    "    img_dir = os.path.join(base, split, 'images')\n",
    "    lbl_dir = os.path.join(base, split, 'labels')\n",
    "    imgs = sorted([f for f in os.listdir(img_dir) if f.lower().endswith(('.jpg','.png','.jpeg'))])\n",
    "    img_name = imgs[idx]\n",
    "    img_path = os.path.join(img_dir, img_name)\n",
    "    lbl_path = os.path.join(lbl_dir, img_name.rsplit('.',1)[0] + '.txt')\n",
    "\n",
    "    img = cv2.imread(img_path)\n",
    "    h, w = img.shape[:2]\n",
    "    with open(lbl_path) as f:\n",
    "        for line in f:\n",
    "            cls, x_c, y_c, bw, bh = map(float, line.split())\n",
    "            x1 = int((x_c - bw/2) * w)\n",
    "            y1 = int((y_c - bh/2) * h)\n",
    "            x2 = int((x_c + bw/2) * w)\n",
    "            y2 = int((y_c + bh/2) * h)\n",
    "            cv2.rectangle(img, (x1, y1), (x2, y2), (0, 255, 0), 2)\n",
    "    plt.figure(figsize=(6, 6))\n",
    "    plt.imshow(cv2.cvtColor(img, cv2.COLOR_BGR2RGB))\n",
    "    plt.axis('off')\n",
    "\n",
    "# Show the first sample in train\n",
    "show_sample('train', 0)\n"
   ]
  },
  {
   "cell_type": "code",
   "execution_count": null,
   "metadata": {
    "colab": {
     "base_uri": "https://localhost:8080/"
    },
    "executionInfo": {
     "elapsed": 8,
     "status": "ok",
     "timestamp": 1748432622068,
     "user": {
      "displayName": "cemil fatih yol",
      "userId": "02017625683036780828"
     },
     "user_tz": -180
    },
    "id": "jeja2VZlJ2iA",
    "outputId": "e180b032-6471-43c8-fe5c-0303dfed7e7e"
   },
   "outputs": [],
   "source": [
    "%%bash\n",
    "cat > /content/no_banana_dataset/data.yaml <<EOF\n",
    "# Dataset config for Ultralytics YOLOv8\n",
    "path: /content/no_banana_dataset/no_banana_dataset    # root directory for train/ valid/ test/\n",
    "train: train/images\n",
    "val:   valid/images\n",
    "test:  test/images\n",
    "\n",
    "nc: 6\n",
    "names: ['apple_fresh', 'apple_rotten',\n",
    "        'potato_fresh', 'potato_rotten',\n",
    "        'orange_fresh', 'orange_rotten']\n",
    "EOF\n",
    "\n",
    "# verify\n",
    "echo \"---- data.yaml ----\"\n",
    "cat /content/no_banana_dataset/data.yaml\n"
   ]
  },
  {
   "cell_type": "code",
   "execution_count": null,
   "metadata": {
    "colab": {
     "base_uri": "https://localhost:8080/"
    },
    "executionInfo": {
     "elapsed": 6916566,
     "status": "ok",
     "timestamp": 1748446770172,
     "user": {
      "displayName": "cemil fatih yol",
      "userId": "02017625683036780828"
     },
     "user_tz": -180
    },
    "id": "IM3eqLpEUW-K",
    "outputId": "5c3dbcdc-79c9-4010-c383-44faf9faa450"
   },
   "outputs": [],
   "source": [
    "from ultralytics import YOLO\n",
    "\n",
    "# Initialize a YOLOv8n model\n",
    "model = YOLO(\"yolov8n.pt\")\n",
    "\n",
    "# Create checkpoint directory in Drive\n",
    "checkpoint_dir = '/content/drive/MyDrive/yolo_checkpoints'\n",
    "os.makedirs(checkpoint_dir, exist_ok=True)\n",
    "\n",
    "model.train(\n",
    "    data=\"/content/no_banana_dataset/data.yaml\",\n",
    "    epochs=200,\n",
    "    patience=50,\n",
    "    imgsz=640,\n",
    "    batch=16,\n",
    "    lr0=0.005,\n",
    "    cos_lr=True,\n",
    "    mosaic=1.0,\n",
    "    mixup=0.4,\n",
    "    freeze=10,\n",
    "    save_period=20,  # Save checkpoint every 20 epochs\n",
    "    project=\"/content/drive/MyDrive/runs_no_banana/train\",  # Save to Drive\n",
    "    name=\"no_banana\"\n",
    ")"
   ]
  },
  {
   "cell_type": "code",
   "execution_count": null,
   "metadata": {
    "colab": {
     "base_uri": "https://localhost:8080/"
    },
    "executionInfo": {
     "elapsed": 104,
     "status": "ok",
     "timestamp": 1748447436067,
     "user": {
      "displayName": "cemil fatih yol",
      "userId": "02017625683036780828"
     },
     "user_tz": -180
    },
    "id": "YViYBYErXr7D",
    "outputId": "f505e4a2-0280-49d7-b427-3f1adb392653"
   },
   "outputs": [],
   "source": [
    "!ls drive/MyDrive/runs_no_banana/train/no_banana/weights"
   ]
  },
  {
   "cell_type": "code",
   "execution_count": null,
   "metadata": {
    "executionInfo": {
     "elapsed": 1,
     "status": "ok",
     "timestamp": 1748446770200,
     "user": {
      "displayName": "cemil fatih yol",
      "userId": "02017625683036780828"
     },
     "user_tz": -180
    },
    "id": "urqui2_j7wKS"
   },
   "outputs": [],
   "source": []
  }
 ],
 "metadata": {
  "accelerator": "GPU",
  "colab": {
   "authorship_tag": "ABX9TyO7+IbXi9fAgiLxjpS+4BpY",
   "gpuType": "A100",
   "machine_shape": "hm",
   "mount_file_id": "1032ga5dFdBvLuYBcEzKKw3k4lS1iBID5",
   "provenance": []
  },
  "kernelspec": {
   "display_name": "Python 3",
   "name": "python3"
  },
  "language_info": {
   "name": "python"
  }
 },
 "nbformat": 4,
 "nbformat_minor": 0
}
